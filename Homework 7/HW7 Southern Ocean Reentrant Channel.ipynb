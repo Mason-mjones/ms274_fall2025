{
 "cells": [
  {
   "cell_type": "markdown",
   "id": "90d7009b-44b9-401a-a60a-871e1242969f",
   "metadata": {},
   "source": [
    "# Homework 7: Southern Ocean Reentrant Channel\n",
    "\n",
    "#### Objective:\n",
    "In this homework, we will investigate the effect of resolution on transient features and transport quantities using the Southern Ocean Reentrant Channel model.\n",
    "\n",
    "#### Import Modules:\n",
    "Begin by importing the modules to read in data, conduct calculations, and make plots."
   ]
  },
  {
   "cell_type": "code",
   "execution_count": 1,
   "id": "52372dd1-06aa-4d5e-a3f0-9a1d14b798a1",
   "metadata": {},
   "outputs": [],
   "source": [
    "# import the modules you need here - you may need to add as you go\n",
    "import os\n",
    "import numpy as np\n",
    "import matplotlib.pyplot as plt\n",
    "import cmocean.cm as cm\n",
    "import moviepy.video.io.ImageSequenceClip\n",
    "\n",
    "# this module will help organize your subplots\n",
    "from matplotlib.gridspec import GridSpec\n",
    "\n",
    "# this module will help create your elapsed time bar\n",
    "from matplotlib.patches import Rectangle"
   ]
  },
  {
   "cell_type": "markdown",
   "id": "95eb2a0d",
   "metadata": {},
   "source": [
    "## Part 1: Modify, Compile and Run the Model"
   ]
  },
  {
   "cell_type": "markdown",
   "id": "d22405a7",
   "metadata": {},
   "source": [
    "In this assignment, we are going to run the same model we ran in class - but this time, we will run at a resolution which is 10x higher than before. Follow the steps below to get the high resolution model set up.\n",
    "\n",
    "#### Step 1: Clean Build and Run directories\n",
    "For this model, we're going to need some clean build and run directories. If you already downloaded everything from the low resolution models in class, you can just remove all of the existing files in your run and bulid directories. Alternatively, you can make new versions e.g.\n",
    "\n",
    "```\n",
    "MITgcm/verification/tutorial_reentrant_channel\n",
    "mkdir build_hires\n",
    "mkdir run_hires\n",
    "```\n",
    "\n",
    "If you choose this option, be sure to replace \"build\" and \"run\" in the lines below with these new directories.\n",
    "\n",
    "#### Step 2: Recompile the model\n",
    "\n",
    "To compile the model for higher resolution, we're going to need to resize our domain. The new domain size is stored in the `SIZE.h_eddy` file in the code directory. To make this change, move to your code directory and then rename the SIZE.h_eddy file to SIZE.h. Then, in your build directory, compile with MPI.\n",
    "\n",
    "#### Step 3: Prepare your run directory\n",
    "To start, per the usual set up, copy everything from input to your run directory and link the `mitgcmuv` from build to run.\n",
    "\n",
    "Then, on your local machine, run the `gendata.5km.py` script provided with the model input files. This should create the following files:\n",
    "- SST_relax.5km.bin\n",
    "- T_relax_mask.5km.bin\n",
    "- bathy.5km.bin\n",
    "- temperature.5km.bin\n",
    "- zonal_wind.5km.bin\n",
    "\n",
    "In addition, grab the pickup files from Canvas provided with this notebook and upload them to Spartan in your run directory.\n",
    "  \n",
    "Make a copy of these files in your run directory on Spartan.\n",
    "\n",
    "Next, modify the following data* files:\n",
    "\n",
    "1. Modify the data.pkg file to uncomment the line useGMRedi=.FALSE.,\n",
    "\n",
    "2. Modify the data file to un/comment the lines for \"eddy-permitting run\":\n",
    "- 4 lines in PARM01 \n",
    "- comment out line for viscAh=2000 in parm01\n",
    "- deltaT, nTimesteps, monitorFreq in PARM03\n",
    "- delX and delY in PARM04\n",
    "- 4x files in PARM05\n",
    "  \n",
    "3. Modify the data file to start at iteration 3483648 and run for two years (1 year = 360 days).\n",
    "\n",
    "4. Modify the data.rbcs file to use the new lines\n",
    "\n",
    "5. Modify the data.diagnostics file to be the same as that shown in class"
   ]
  },
  {
   "cell_type": "markdown",
   "id": "b0a65179-0a4f-4da0-983f-5ee41fecbbda",
   "metadata": {},
   "source": [
    "#### Run the model\n",
    "To run the model, you'll need to make a new job script. Consider the following questions:\n",
    "- How many CPUs (tasks) will you need?\n",
    "\n",
    "100 CPUs\n",
    "\n",
    "- Each node is 28 CPUs. How many nodes will you need? \n",
    "\n",
    "4 nodes\n",
    "\n",
    "If you are in doubt, send Mike an email.\n",
    "\n",
    "Note: this model run will take a couple hours!"
   ]
  },
  {
   "cell_type": "markdown",
   "id": "32b40c32-cedd-4b17-92e0-4acda3d60d45",
   "metadata": {},
   "source": [
    "## Part 2: Surface Conditions\n",
    "Using your output from the high-resolution model produced by your new model run, make a movie comparing the low resolution model output to the high resolution output. The top row should show the low resolution output, as shown in the movie made in class, and the bottom row should show the fields at an identical timestep from the high resolution model. Be sure to resize and reorganize your plotting code from class to make a well-formatted movie."
   ]
  },
  {
   "cell_type": "code",
   "execution_count": 2,
   "id": "c2953d04-c498-4109-a64c-d82407383ae7",
   "metadata": {},
   "outputs": [],
   "source": [
    "hires_path = 'C:/Users/Stephen/Desktop/MLML/MS 274 Ocean Modeling/Lab/Week 7/HW7/run'"
   ]
  },
  {
   "cell_type": "code",
   "execution_count": 3,
   "id": "04116198-a763-4b64-891b-53654c296c2d",
   "metadata": {},
   "outputs": [],
   "source": [
    "# make a function to output the following grids:\n",
    "# theta, etan, speed\n",
    "def read_surface_conditions_from_file(file_path):\n",
    "    surf_grid = np.fromfile(file_path, '>f4').reshape(4,400,200)\n",
    "    theta = surf_grid[0,:,:]\n",
    "    eta = surf_grid[1,:,:]\n",
    "    uvel = surf_grid[2,:,:]\n",
    "    vvel = surf_grid[3,:,:]\n",
    "\n",
    "    return(theta, eta, uvel, vvel)"
   ]
  },
  {
   "cell_type": "code",
   "execution_count": 4,
   "id": "bceb059e-5dae-475b-8e67-7c5c0fb597d8",
   "metadata": {},
   "outputs": [],
   "source": [
    "def iteration_number_to_dec_yr(iteration_number):\n",
    "\n",
    "    timestep = 250\n",
    "    y1 = 28\n",
    "    y2 = 30\n",
    "    x1 = (y1*360*86400)/timestep\n",
    "    x2 = (y2*360*86400)/timestep\n",
    "    \n",
    "    x = iteration_number \n",
    "\n",
    "    # low res intervals\n",
    "    # x1 = 870912\n",
    "    # x2 = 933120\n",
    "\n",
    "    y = ((y2-y1)/(x2-x1))*(x-x1) +y1\n",
    "    return(y)"
   ]
  },
  {
   "cell_type": "code",
   "execution_count": 18,
   "id": "ff83ee66-bb8d-4723-918d-3db80cc2bf5b",
   "metadata": {},
   "outputs": [
    {
     "data": {
      "text/plain": [
       "'meta'"
      ]
     },
     "execution_count": 18,
     "metadata": {},
     "output_type": "execute_result"
    }
   ],
   "source": [
    "file.split('.')[2]"
   ]
  },
  {
   "cell_type": "code",
   "execution_count": 20,
   "id": "3cb2139f-eebd-4ffc-9e3a-a47c46dacda5",
   "metadata": {},
   "outputs": [
    {
     "data": {
      "text/plain": [
       "['surf_diags_daily.0003483994.data',\n",
       " 'surf_diags_daily.0003484339.data',\n",
       " 'surf_diags_daily.0003484685.data',\n",
       " 'surf_diags_daily.0003485030.data',\n",
       " 'surf_diags_daily.0003485376.data']"
      ]
     },
     "execution_count": 20,
     "metadata": {},
     "output_type": "execute_result"
    }
   ],
   "source": [
    "surf_list = []\n",
    "for file in os.listdir(os.path.join(hires_path,'Diags')):\n",
    "        if file.split('_')[0] == 'surf' and file.split('.')[2] == 'data':\n",
    "            surf_list.append(file)\n",
    "\n",
    "surf_list[:5]"
   ]
  },
  {
   "cell_type": "code",
   "execution_count": 40,
   "id": "5558d136-ccaa-4700-b0a1-dc2365d8673c",
   "metadata": {},
   "outputs": [],
   "source": [
    "# Edit the coding cells here to make your movie\n",
    "# make a test plot here\n",
    "for file in surf_list:\n",
    "    file_path = os.path.join(hires_path,'Diags',file)\n",
    "\n",
    "    \n",
    "    theta, eta, uvel, vvel = read_surface_conditions_from_file(file_path)\n",
    "    # masked_uvel = np.ma.masked_where(hfacw[0,:,:] ==0,uvel_grid)\n",
    "    \n",
    "    iteration = file.split('.')[1]\n",
    "    img_path = os.path.join(hires_path,'plots','surf_'+iteration+'.png')\n",
    "\n",
    "    fig = plt.figure(figsize = (12,5))\n",
    "\n",
    "    gs = GridSpec(6, 3, figure = fig)\n",
    "    ax1 = fig.add_subplot(gs[0:5, 0])\n",
    "    plt.pcolormesh(theta, cmap= cm.thermal, vmin = 0, vmax = 10)\n",
    "    plt.colorbar(label = 'degC', orientation='horizontal')\n",
    "    plt.title('Temperature')\n",
    "    plt.ylabel('Model Rows')\n",
    "    \n",
    "    ax2 = fig.add_subplot(gs[0:5, 1])\n",
    "    plt.pcolormesh(eta,vmin = -0.9, vmax = 0.9)\n",
    "    plt.colorbar(label = 'm', orientation='horizontal')\n",
    "    plt.title('Sea Surface Height')\n",
    "    plt.xlabel('Model Columns')\n",
    "    \n",
    "    ax3 = fig.add_subplot(gs[0:5, 2])\n",
    "    plt.pcolormesh(np.sqrt(uvel**2 + vvel**2),cmap = 'turbo', vmin = 0, vmax = 2)\n",
    "    plt.colorbar(label = 'm/s', orientation='horizontal')\n",
    "    plt.title('Speed')\n",
    "    \n",
    "    ax4 = fig.add_subplot(gs[-1,:])\n",
    "    bar = Rectangle((28,0),\n",
    "              iteration_number_to_dec_yr(int(iteration))-28,1,\n",
    "              color = 'gray')\n",
    "    ax4.add_patch(bar)\n",
    "    plt.xlim([28, 30])\n",
    "    plt.ylim([0, 1])\n",
    "    plt.xlabel('Decimal Year')\n",
    "    ax4.yaxis.set_tick_params(labelcolor='none')\n",
    "    \n",
    "    plt.tight_layout()\n",
    "    \n",
    "    plt.savefig(img_path)\n",
    "    plt.close(fig)\n"
   ]
  },
  {
   "cell_type": "code",
   "execution_count": 41,
   "id": "e66813ff-1b32-44b5-918a-9538010c66fe",
   "metadata": {},
   "outputs": [
    {
     "data": {
      "text/plain": [
       "['C:/Users/Stephen/Desktop/MLML/MS 274 Ocean Modeling/Lab/Week 7/HW7/run\\\\plots\\\\surf_0003483994.png',\n",
       " 'C:/Users/Stephen/Desktop/MLML/MS 274 Ocean Modeling/Lab/Week 7/HW7/run\\\\plots\\\\surf_0003484339.png',\n",
       " 'C:/Users/Stephen/Desktop/MLML/MS 274 Ocean Modeling/Lab/Week 7/HW7/run\\\\plots\\\\surf_0003484685.png',\n",
       " 'C:/Users/Stephen/Desktop/MLML/MS 274 Ocean Modeling/Lab/Week 7/HW7/run\\\\plots\\\\surf_0003485030.png',\n",
       " 'C:/Users/Stephen/Desktop/MLML/MS 274 Ocean Modeling/Lab/Week 7/HW7/run\\\\plots\\\\surf_0003485376.png']"
      ]
     },
     "execution_count": 41,
     "metadata": {},
     "output_type": "execute_result"
    }
   ],
   "source": [
    "img_list = []\n",
    "for img in os.listdir(os.path.join(hires_path,'plots')):\n",
    "    img_add = os.path.join(hires_path,'plots',img)\n",
    "    img_list.append(img_add)\n",
    "\n",
    "img_list[:5]"
   ]
  },
  {
   "cell_type": "code",
   "execution_count": 42,
   "id": "879a9d6c-9695-4984-a85d-6dd8971b4097",
   "metadata": {},
   "outputs": [
    {
     "name": "stdout",
     "output_type": "stream",
     "text": [
      "Moviepy - Building video C:/Users/Stephen/Desktop/MLML/MS 274 Ocean Modeling/Lab/Week 7/HW7/run\\surf_hires.mp4.\n",
      "Moviepy - Writing video C:/Users/Stephen/Desktop/MLML/MS 274 Ocean Modeling/Lab/Week 7/HW7/run\\surf_hires.mp4\n",
      "\n"
     ]
    },
    {
     "name": "stderr",
     "output_type": "stream",
     "text": [
      "                                                                                                                       "
     ]
    },
    {
     "name": "stdout",
     "output_type": "stream",
     "text": [
      "Moviepy - Done !\n",
      "Moviepy - video ready C:/Users/Stephen/Desktop/MLML/MS 274 Ocean Modeling/Lab/Week 7/HW7/run\\surf_hires.mp4\n"
     ]
    }
   ],
   "source": [
    "# set the frames per second\n",
    "fps=30\n",
    "\n",
    "# use the ImageSequenceClip module to set up the clip\n",
    "clip = moviepy.video.io.ImageSequenceClip.ImageSequenceClip(img_list, fps=fps)\n",
    "\n",
    "# write the video to a file\n",
    "output_file = os.path.join(hires_path,'surf_hires.mp4')\n",
    "clip.write_videofile(output_file)"
   ]
  },
  {
   "cell_type": "code",
   "execution_count": null,
   "id": "bd0dc24f-2f54-4740-91d3-b0229c3eb43d",
   "metadata": {},
   "outputs": [],
   "source": []
  },
  {
   "cell_type": "markdown",
   "id": "737ec8eb-b5da-46c4-97e8-521107083f25",
   "metadata": {},
   "source": [
    "## Part 3: Mean Hydrography\n",
    "Again using your output from the high-resolution model, create a plot that shows mean properties along the channel ridge. You plot should have 8 panels - the 4 from class in one row, and the 4 from the new model in the bottom row."
   ]
  },
  {
   "cell_type": "code",
   "execution_count": null,
   "id": "38b4cea7-6815-4f0b-b0d6-f9c8cef542f7",
   "metadata": {},
   "outputs": [],
   "source": [
    "# Edit the coding cells here to make your plot\n"
   ]
  },
  {
   "cell_type": "code",
   "execution_count": null,
   "id": "c8d05ccb-c09c-4e9d-9b79-9f8af7dc3404",
   "metadata": {},
   "outputs": [],
   "source": []
  },
  {
   "cell_type": "code",
   "execution_count": null,
   "id": "7e98aece-5d21-459d-9407-60769b311413",
   "metadata": {},
   "outputs": [],
   "source": []
  },
  {
   "cell_type": "markdown",
   "id": "2a225d75-8545-4f9b-aec2-c7334862adae",
   "metadata": {},
   "source": [
    "## Part 4: Heat Flux Timeseries\n",
    "You probably see where this one is going - in this section, re-create your timeseries plot from class for mean temperature and zonal velocity, and total heat flux on a transect across the ridge. Each of the three panels should now have 2 lines - one for the coarse resolution model and one for the high resolution model."
   ]
  },
  {
   "cell_type": "code",
   "execution_count": null,
   "id": "37620e84-1123-4d57-b30c-e5dc744f73d4",
   "metadata": {},
   "outputs": [],
   "source": [
    "# Edit the coding cells here to make your plot"
   ]
  },
  {
   "cell_type": "code",
   "execution_count": null,
   "id": "d788e2cb-c884-436e-90b4-a6c2fd1221a5",
   "metadata": {},
   "outputs": [],
   "source": []
  },
  {
   "cell_type": "code",
   "execution_count": null,
   "id": "4b45944d-5005-4acd-b613-cb0500d0c4ba",
   "metadata": {},
   "outputs": [],
   "source": []
  },
  {
   "cell_type": "markdown",
   "id": "9820206e-d558-4a99-ab98-07036f936b8a",
   "metadata": {},
   "source": [
    "## Part 5: Model Differences\n",
    "In the markdown cell below, write a paragraph describing the differences in the model runs that resulted from changing the resolution. Some key questions to consider:\n",
    "- What are the key changes to the model output?\n",
    "- What causes the variabiliy in the higher resolution model that was not present in the lower resolution model? Note here that the external forcing conditions are identical!\n",
    "- What is consistent between the model runs?\n",
    "- How well do you think the low resolution model captures the features of the higher resolution model?\n",
    "- What generalizations can we make about coarse resolution global ocean models based on this comparison?"
   ]
  },
  {
   "cell_type": "markdown",
   "id": "8919aafc-affa-4407-a61a-677d49048d8e",
   "metadata": {},
   "source": [
    "*Edit this markdown cell*"
   ]
  }
 ],
 "metadata": {
  "kernelspec": {
   "display_name": "ms274om",
   "language": "python",
   "name": "ms274om"
  },
  "language_info": {
   "codemirror_mode": {
    "name": "ipython",
    "version": 3
   },
   "file_extension": ".py",
   "mimetype": "text/x-python",
   "name": "python",
   "nbconvert_exporter": "python",
   "pygments_lexer": "ipython3",
   "version": "3.12.11"
  }
 },
 "nbformat": 4,
 "nbformat_minor": 5
}
